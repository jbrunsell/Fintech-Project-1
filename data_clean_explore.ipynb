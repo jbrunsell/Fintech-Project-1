{
 "cells": [
  {
   "cell_type": "code",
   "execution_count": 88,
   "id": "3a144f79-976b-4397-a380-f6e2b9d7cd9d",
   "metadata": {},
   "outputs": [],
   "source": [
    "import pandas as pd\n",
    "import hvplot.pandas\n"
   ]
  },
  {
   "cell_type": "code",
   "execution_count": 89,
   "id": "f0a00baf",
   "metadata": {},
   "outputs": [],
   "source": [
    "bank_data = pd.read_csv('./hotel_bookings_raw.csv')"
   ]
  },
  {
   "cell_type": "code",
   "execution_count": 90,
   "metadata": {},
   "outputs": [
    {
     "name": "stdout",
     "output_type": "stream",
     "text": [
      "<class 'pandas.core.frame.DataFrame'>\n",
      "RangeIndex: 119390 entries, 0 to 119389\n",
      "Data columns (total 44 columns):\n",
      " #   Column                          Non-Null Count   Dtype         \n",
      "---  ------                          --------------   -----         \n",
      " 0   hotel                           119390 non-null  object        \n",
      " 1   is_canceled                     119390 non-null  int64         \n",
      " 2   lead_time                       119390 non-null  int64         \n",
      " 3   arrival_date_year               119390 non-null  int64         \n",
      " 4   arrival_date_month              119390 non-null  object        \n",
      " 5   arrival_date_week_number        119390 non-null  int64         \n",
      " 6   arrival_date_day_of_month       119390 non-null  int64         \n",
      " 7   stays_in_weekend_nights         119390 non-null  int64         \n",
      " 8   stays_in_week_nights            119390 non-null  int64         \n",
      " 9   adults                          119390 non-null  int64         \n",
      " 10  children                        119386 non-null  float64       \n",
      " 11  babies                          119390 non-null  int64         \n",
      " 12  meal                            119390 non-null  object        \n",
      " 13  country                         118902 non-null  object        \n",
      " 14  market_segment                  119390 non-null  object        \n",
      " 15  distribution_channel            119390 non-null  object        \n",
      " 16  is_repeated_guest               119390 non-null  int64         \n",
      " 17  previous_cancellations          119390 non-null  int64         \n",
      " 18  previous_bookings_not_canceled  119390 non-null  int64         \n",
      " 19  reserved_room_type              119390 non-null  object        \n",
      " 20  assigned_room_type              119390 non-null  object        \n",
      " 21  booking_changes                 119390 non-null  int64         \n",
      " 22  deposit_type                    119390 non-null  object        \n",
      " 23  agent                           103050 non-null  float64       \n",
      " 24  days_in_waiting_list            119390 non-null  int64         \n",
      " 25  customer_type                   119390 non-null  object        \n",
      " 26  adr                             119390 non-null  float64       \n",
      " 27  required_car_parking_spaces     119390 non-null  int64         \n",
      " 28  total_of_special_requests       119390 non-null  int64         \n",
      " 29  reservation_status              119390 non-null  object        \n",
      " 30  reservation_status_date         119390 non-null  object        \n",
      " 31  MO_YR                           119390 non-null  object        \n",
      " 32  CPI_AVG                         119209 non-null  float64       \n",
      " 33  INFLATION                       119209 non-null  float64       \n",
      " 34  INFLATION_CHG                   119209 non-null  float64       \n",
      " 35  CSMR_SENT                       119209 non-null  float64       \n",
      " 36  UNRATE                          119209 non-null  float64       \n",
      " 37  INTRSRT                         119209 non-null  float64       \n",
      " 38  GDP                             119209 non-null  float64       \n",
      " 39  FUEL_PRCS                       119209 non-null  float64       \n",
      " 40  CPI_HOTELS                      119209 non-null  float64       \n",
      " 41  US_GINI                         119209 non-null  float64       \n",
      " 42  DIS_INC                         119209 non-null  float64       \n",
      " 43  arrival_date                    119390 non-null  datetime64[ns]\n",
      "dtypes: datetime64[ns](1), float64(14), int64(16), object(13)\n",
      "memory usage: 40.1+ MB\n"
     ]
    }
   ],
   "source": [
    "for each in bank_data.index:\n",
    "    bank_data.loc[each,'arrival_date']=pd.to_datetime(str(bank_data.loc[each,'arrival_date_year']) + \"-\" \n",
    "                                                      + bank_data.loc[each,'arrival_date_month'] + \"-\"\n",
    "                                                      + str(bank_data.loc[each,'arrival_date_day_of_month']))\n",
    "bank_data.info()\n",
    "bank_data=bank_data.drop(['arrival_date_year','arrival_date_month','arrival_date_day_of_month'],axis='columns')"
   ]
  },
  {
   "cell_type": "code",
   "execution_count": 116,
   "id": "df1088b4",
   "metadata": {},
   "outputs": [
    {
     "data": {
      "text/html": [
       "<div>\n",
       "<style scoped>\n",
       "    .dataframe tbody tr th:only-of-type {\n",
       "        vertical-align: middle;\n",
       "    }\n",
       "\n",
       "    .dataframe tbody tr th {\n",
       "        vertical-align: top;\n",
       "    }\n",
       "\n",
       "    .dataframe thead th {\n",
       "        text-align: right;\n",
       "    }\n",
       "</style>\n",
       "<table border=\"1\" class=\"dataframe\">\n",
       "  <thead>\n",
       "    <tr style=\"text-align: right;\">\n",
       "      <th></th>\n",
       "      <th>hotel</th>\n",
       "      <th>is_canceled</th>\n",
       "      <th>lead_time</th>\n",
       "      <th>arrival_date_week_number</th>\n",
       "      <th>stays_in_weekend_nights</th>\n",
       "      <th>stays_in_week_nights</th>\n",
       "      <th>adults</th>\n",
       "      <th>children</th>\n",
       "      <th>babies</th>\n",
       "      <th>meal</th>\n",
       "      <th>...</th>\n",
       "      <th>CSMR_SENT</th>\n",
       "      <th>UNRATE</th>\n",
       "      <th>INTRSRT</th>\n",
       "      <th>GDP</th>\n",
       "      <th>FUEL_PRCS</th>\n",
       "      <th>CPI_HOTELS</th>\n",
       "      <th>US_GINI</th>\n",
       "      <th>DIS_INC</th>\n",
       "      <th>arrival_date</th>\n",
       "      <th>revenue</th>\n",
       "    </tr>\n",
       "  </thead>\n",
       "  <tbody>\n",
       "    <tr>\n",
       "      <th>0</th>\n",
       "      <td>Resort Hotel</td>\n",
       "      <td>0</td>\n",
       "      <td>342</td>\n",
       "      <td>27</td>\n",
       "      <td>0</td>\n",
       "      <td>0</td>\n",
       "      <td>2</td>\n",
       "      <td>0.0</td>\n",
       "      <td>0</td>\n",
       "      <td>BB</td>\n",
       "      <td>...</td>\n",
       "      <td>93.1</td>\n",
       "      <td>5.3</td>\n",
       "      <td>0.75</td>\n",
       "      <td>18306.96</td>\n",
       "      <td>194.0</td>\n",
       "      <td>0.187566</td>\n",
       "      <td>41.2</td>\n",
       "      <td>41355.0</td>\n",
       "      <td>2015-07-01</td>\n",
       "      <td>0.0</td>\n",
       "    </tr>\n",
       "    <tr>\n",
       "      <th>1</th>\n",
       "      <td>Resort Hotel</td>\n",
       "      <td>0</td>\n",
       "      <td>737</td>\n",
       "      <td>27</td>\n",
       "      <td>0</td>\n",
       "      <td>0</td>\n",
       "      <td>2</td>\n",
       "      <td>0.0</td>\n",
       "      <td>0</td>\n",
       "      <td>BB</td>\n",
       "      <td>...</td>\n",
       "      <td>93.1</td>\n",
       "      <td>5.3</td>\n",
       "      <td>0.75</td>\n",
       "      <td>18306.96</td>\n",
       "      <td>194.0</td>\n",
       "      <td>0.187566</td>\n",
       "      <td>41.2</td>\n",
       "      <td>41355.0</td>\n",
       "      <td>2015-07-01</td>\n",
       "      <td>0.0</td>\n",
       "    </tr>\n",
       "    <tr>\n",
       "      <th>2</th>\n",
       "      <td>Resort Hotel</td>\n",
       "      <td>0</td>\n",
       "      <td>7</td>\n",
       "      <td>27</td>\n",
       "      <td>0</td>\n",
       "      <td>1</td>\n",
       "      <td>1</td>\n",
       "      <td>0.0</td>\n",
       "      <td>0</td>\n",
       "      <td>BB</td>\n",
       "      <td>...</td>\n",
       "      <td>93.1</td>\n",
       "      <td>5.3</td>\n",
       "      <td>0.75</td>\n",
       "      <td>18306.96</td>\n",
       "      <td>194.0</td>\n",
       "      <td>0.187566</td>\n",
       "      <td>41.2</td>\n",
       "      <td>41355.0</td>\n",
       "      <td>2015-07-01</td>\n",
       "      <td>75.0</td>\n",
       "    </tr>\n",
       "    <tr>\n",
       "      <th>3</th>\n",
       "      <td>Resort Hotel</td>\n",
       "      <td>0</td>\n",
       "      <td>13</td>\n",
       "      <td>27</td>\n",
       "      <td>0</td>\n",
       "      <td>1</td>\n",
       "      <td>1</td>\n",
       "      <td>0.0</td>\n",
       "      <td>0</td>\n",
       "      <td>BB</td>\n",
       "      <td>...</td>\n",
       "      <td>93.1</td>\n",
       "      <td>5.3</td>\n",
       "      <td>0.75</td>\n",
       "      <td>18306.96</td>\n",
       "      <td>194.0</td>\n",
       "      <td>0.187566</td>\n",
       "      <td>41.2</td>\n",
       "      <td>41355.0</td>\n",
       "      <td>2015-07-01</td>\n",
       "      <td>75.0</td>\n",
       "    </tr>\n",
       "    <tr>\n",
       "      <th>4</th>\n",
       "      <td>Resort Hotel</td>\n",
       "      <td>0</td>\n",
       "      <td>14</td>\n",
       "      <td>27</td>\n",
       "      <td>0</td>\n",
       "      <td>2</td>\n",
       "      <td>2</td>\n",
       "      <td>0.0</td>\n",
       "      <td>0</td>\n",
       "      <td>BB</td>\n",
       "      <td>...</td>\n",
       "      <td>93.1</td>\n",
       "      <td>5.3</td>\n",
       "      <td>0.75</td>\n",
       "      <td>18306.96</td>\n",
       "      <td>194.0</td>\n",
       "      <td>0.187566</td>\n",
       "      <td>41.2</td>\n",
       "      <td>41355.0</td>\n",
       "      <td>2015-07-01</td>\n",
       "      <td>196.0</td>\n",
       "    </tr>\n",
       "  </tbody>\n",
       "</table>\n",
       "<p>5 rows × 42 columns</p>\n",
       "</div>"
      ],
      "text/plain": [
       "          hotel  is_canceled  lead_time  arrival_date_week_number  \\\n",
       "0  Resort Hotel            0        342                        27   \n",
       "1  Resort Hotel            0        737                        27   \n",
       "2  Resort Hotel            0          7                        27   \n",
       "3  Resort Hotel            0         13                        27   \n",
       "4  Resort Hotel            0         14                        27   \n",
       "\n",
       "   stays_in_weekend_nights  stays_in_week_nights  adults  children  babies  \\\n",
       "0                        0                     0       2       0.0       0   \n",
       "1                        0                     0       2       0.0       0   \n",
       "2                        0                     1       1       0.0       0   \n",
       "3                        0                     1       1       0.0       0   \n",
       "4                        0                     2       2       0.0       0   \n",
       "\n",
       "  meal  ... CSMR_SENT UNRATE INTRSRT       GDP  FUEL_PRCS  CPI_HOTELS US_GINI  \\\n",
       "0   BB  ...      93.1    5.3    0.75  18306.96      194.0    0.187566    41.2   \n",
       "1   BB  ...      93.1    5.3    0.75  18306.96      194.0    0.187566    41.2   \n",
       "2   BB  ...      93.1    5.3    0.75  18306.96      194.0    0.187566    41.2   \n",
       "3   BB  ...      93.1    5.3    0.75  18306.96      194.0    0.187566    41.2   \n",
       "4   BB  ...      93.1    5.3    0.75  18306.96      194.0    0.187566    41.2   \n",
       "\n",
       "   DIS_INC  arrival_date revenue  \n",
       "0  41355.0    2015-07-01     0.0  \n",
       "1  41355.0    2015-07-01     0.0  \n",
       "2  41355.0    2015-07-01    75.0  \n",
       "3  41355.0    2015-07-01    75.0  \n",
       "4  41355.0    2015-07-01   196.0  \n",
       "\n",
       "[5 rows x 42 columns]"
      ]
     },
     "execution_count": 116,
     "metadata": {},
     "output_type": "execute_result"
    }
   ],
   "source": [
    "bank_data.head()"
   ]
  },
  {
   "cell_type": "code",
   "execution_count": 112,
   "id": "b100f7fe",
   "metadata": {},
   "outputs": [],
   "source": [
    "\n",
    "bank_data['revenue']=bank_data['adr']*(bank_data['stays_in_weekend_nights']+bank_data['stays_in_week_nights'])"
   ]
  },
  {
   "cell_type": "code",
   "execution_count": 91,
   "id": "70f03e86",
   "metadata": {},
   "outputs": [
    {
     "name": "stdout",
     "output_type": "stream",
     "text": [
      "adults\n",
      "2     89680\n",
      "1     23027\n",
      "3      6202\n",
      "0       403\n",
      "4        62\n",
      "26        5\n",
      "27        2\n",
      "20        2\n",
      "5         2\n",
      "40        1\n",
      "50        1\n",
      "55        1\n",
      "6         1\n",
      "10        1\n",
      "Name: count, dtype: int64\n"
     ]
    }
   ],
   "source": [
    "print(bank_data['adults'].value_counts())\n",
    "bank_data = bank_data[bank_data['adults']<5]"
   ]
  },
  {
   "cell_type": "code",
   "execution_count": 92,
   "id": "f661cef2",
   "metadata": {},
   "outputs": [
    {
     "name": "stdout",
     "output_type": "stream",
     "text": [
      "adults\n",
      "2    89680\n",
      "1    23027\n",
      "3     6202\n",
      "0      403\n",
      "4       62\n",
      "Name: count, dtype: int64\n"
     ]
    }
   ],
   "source": [
    "print(bank_data['adults'].value_counts())"
   ]
  },
  {
   "cell_type": "code",
   "execution_count": 103,
   "metadata": {},
   "outputs": [
    {
     "name": "stdout",
     "output_type": "stream",
     "text": [
      "children\n",
      "0.0     110780\n",
      "1.0       4861\n",
      "2.0       3652\n",
      "3.0         76\n",
      "10.0         1\n",
      "Name: count, dtype: int64\n"
     ]
    },
    {
     "data": {
      "text/html": [
       "<div>\n",
       "<style scoped>\n",
       "    .dataframe tbody tr th:only-of-type {\n",
       "        vertical-align: middle;\n",
       "    }\n",
       "\n",
       "    .dataframe tbody tr th {\n",
       "        vertical-align: top;\n",
       "    }\n",
       "\n",
       "    .dataframe thead th {\n",
       "        text-align: right;\n",
       "    }\n",
       "</style>\n",
       "<table border=\"1\" class=\"dataframe\">\n",
       "  <thead>\n",
       "    <tr style=\"text-align: right;\">\n",
       "      <th></th>\n",
       "      <th>hotel</th>\n",
       "      <th>is_canceled</th>\n",
       "      <th>lead_time</th>\n",
       "      <th>arrival_date_week_number</th>\n",
       "      <th>stays_in_weekend_nights</th>\n",
       "      <th>stays_in_week_nights</th>\n",
       "      <th>adults</th>\n",
       "      <th>children</th>\n",
       "      <th>babies</th>\n",
       "      <th>meal</th>\n",
       "      <th>...</th>\n",
       "      <th>INFLATION_CHG</th>\n",
       "      <th>CSMR_SENT</th>\n",
       "      <th>UNRATE</th>\n",
       "      <th>INTRSRT</th>\n",
       "      <th>GDP</th>\n",
       "      <th>FUEL_PRCS</th>\n",
       "      <th>CPI_HOTELS</th>\n",
       "      <th>US_GINI</th>\n",
       "      <th>DIS_INC</th>\n",
       "      <th>arrival_date</th>\n",
       "    </tr>\n",
       "  </thead>\n",
       "  <tbody>\n",
       "    <tr>\n",
       "      <th>328</th>\n",
       "      <td>Resort Hotel</td>\n",
       "      <td>1</td>\n",
       "      <td>55</td>\n",
       "      <td>29</td>\n",
       "      <td>4</td>\n",
       "      <td>10</td>\n",
       "      <td>2</td>\n",
       "      <td>10.0</td>\n",
       "      <td>0</td>\n",
       "      <td>BB</td>\n",
       "      <td>...</td>\n",
       "      <td>0.0</td>\n",
       "      <td>93.1</td>\n",
       "      <td>5.3</td>\n",
       "      <td>0.75</td>\n",
       "      <td>18306.96</td>\n",
       "      <td>194.0</td>\n",
       "      <td>0.187566</td>\n",
       "      <td>41.2</td>\n",
       "      <td>41355.0</td>\n",
       "      <td>2015-07-12</td>\n",
       "    </tr>\n",
       "  </tbody>\n",
       "</table>\n",
       "<p>1 rows × 41 columns</p>\n",
       "</div>"
      ],
      "text/plain": [
       "            hotel  is_canceled  lead_time  arrival_date_week_number  \\\n",
       "328  Resort Hotel            1         55                        29   \n",
       "\n",
       "     stays_in_weekend_nights  stays_in_week_nights  adults  children  babies  \\\n",
       "328                        4                    10       2      10.0       0   \n",
       "\n",
       "    meal  ... INFLATION_CHG CSMR_SENT UNRATE  INTRSRT       GDP  FUEL_PRCS  \\\n",
       "328   BB  ...           0.0      93.1    5.3     0.75  18306.96      194.0   \n",
       "\n",
       "    CPI_HOTELS US_GINI  DIS_INC arrival_date  \n",
       "328   0.187566    41.2  41355.0   2015-07-12  \n",
       "\n",
       "[1 rows x 41 columns]"
      ]
     },
     "execution_count": 103,
     "metadata": {},
     "output_type": "execute_result"
    }
   ],
   "source": [
    "print(bank_data['children'].value_counts())\n",
    "bank_data[bank_data['children']==10]"
   ]
  },
  {
   "cell_type": "code",
   "execution_count": 94,
   "id": "d59f275e",
   "metadata": {},
   "outputs": [
    {
     "name": "stdout",
     "output_type": "stream",
     "text": [
      "babies\n",
      "0     118457\n",
      "1        900\n",
      "2         15\n",
      "10         1\n",
      "9          1\n",
      "Name: count, dtype: int64\n"
     ]
    }
   ],
   "source": [
    "print(bank_data['babies'].value_counts())"
   ]
  },
  {
   "cell_type": "code",
   "execution_count": 104,
   "id": "67486f15",
   "metadata": {},
   "outputs": [
    {
     "name": "stdout",
     "output_type": "stream",
     "text": [
      "country\n",
      "PRT    48574\n",
      "GBR    12129\n",
      "FRA    10415\n",
      "ESP     8568\n",
      "DEU     7287\n",
      "       ...  \n",
      "DJI        1\n",
      "BWA        1\n",
      "HND        1\n",
      "VGB        1\n",
      "NAM        1\n",
      "Name: count, Length: 177, dtype: int64\n"
     ]
    }
   ],
   "source": [
    "print(bank_data['country'].value_counts())"
   ]
  },
  {
   "cell_type": "code",
   "execution_count": 105,
   "id": "cb7b96db",
   "metadata": {},
   "outputs": [
    {
     "name": "stdout",
     "output_type": "stream",
     "text": [
      "market_segment\n",
      "Online TA        56477\n",
      "Offline TA/TO    24214\n",
      "Groups           19811\n",
      "Direct           12595\n",
      "Corporate         5295\n",
      "Complementary      743\n",
      "Aviation           237\n",
      "Undefined            2\n",
      "Name: count, dtype: int64\n"
     ]
    }
   ],
   "source": [
    "print(bank_data['market_segment'].value_counts())"
   ]
  },
  {
   "cell_type": "code",
   "execution_count": 106,
   "id": "f32c70e7",
   "metadata": {},
   "outputs": [
    {
     "name": "stdout",
     "output_type": "stream",
     "text": [
      "distribution_channel\n",
      "TA/TO        97865\n",
      "Direct       14634\n",
      "Corporate     6677\n",
      "GDS            193\n",
      "Undefined        5\n",
      "Name: count, dtype: int64\n"
     ]
    }
   ],
   "source": [
    "print(bank_data['distribution_channel'].value_counts())"
   ]
  },
  {
   "cell_type": "code",
   "execution_count": 107,
   "id": "6cc8f3e0",
   "metadata": {},
   "outputs": [
    {
     "name": "stdout",
     "output_type": "stream",
     "text": [
      "reserved_room_type\n",
      "A    85982\n",
      "D    19199\n",
      "E     6533\n",
      "F     2897\n",
      "G     2094\n",
      "B     1118\n",
      "C      932\n",
      "H      601\n",
      "P       12\n",
      "L        6\n",
      "Name: count, dtype: int64\n"
     ]
    }
   ],
   "source": [
    "print(bank_data['reserved_room_type'].value_counts())               "
   ]
  },
  {
   "cell_type": "code",
   "execution_count": 108,
   "id": "fb4a0125",
   "metadata": {},
   "outputs": [
    {
     "name": "stdout",
     "output_type": "stream",
     "text": [
      "assigned_room_type\n",
      "A    74041\n",
      "D    25320\n",
      "E     7804\n",
      "F     3751\n",
      "G     2553\n",
      "C     2375\n",
      "B     2163\n",
      "H      712\n",
      "I      363\n",
      "K      279\n",
      "P       12\n",
      "L        1\n",
      "Name: count, dtype: int64\n"
     ]
    }
   ],
   "source": [
    "print(bank_data['assigned_room_type'].value_counts())                "
   ]
  },
  {
   "cell_type": "code",
   "execution_count": 109,
   "id": "33ffdaf5",
   "metadata": {},
   "outputs": [
    {
     "name": "stdout",
     "output_type": "stream",
     "text": [
      "customer_type\n",
      "Transient          89613\n",
      "Transient-Party    25124\n",
      "Contract            4076\n",
      "Group                561\n",
      "Name: count, dtype: int64\n"
     ]
    }
   ],
   "source": [
    "print(bank_data['customer_type'].value_counts())                              "
   ]
  },
  {
   "cell_type": "code",
   "execution_count": 110,
   "id": "be99c6d3",
   "metadata": {},
   "outputs": [
    {
     "name": "stdout",
     "output_type": "stream",
     "text": [
      "adr\n",
      "62.00     3754\n",
      "75.00     2715\n",
      "90.00     2473\n",
      "65.00     2418\n",
      "0.00      1943\n",
      "          ... \n",
      "89.43        1\n",
      "63.07        1\n",
      "55.69        1\n",
      "49.51        1\n",
      "157.71       1\n",
      "Name: count, Length: 8879, dtype: int64\n"
     ]
    }
   ],
   "source": [
    "print(bank_data['adr'].value_counts())                              "
   ]
  },
  {
   "cell_type": "code",
   "execution_count": 123,
   "id": "29bd7643",
   "metadata": {},
   "outputs": [
    {
     "name": "stdout",
     "output_type": "stream",
     "text": [
      "revenue\n",
      "124.00     2913\n",
      "0.00       1943\n",
      "180.00     1310\n",
      "270.00     1090\n",
      "240.00     1046\n",
      "           ... \n",
      "750.90        1\n",
      "611.00        1\n",
      "539.72        1\n",
      "783.42        1\n",
      "1103.97       1\n",
      "Name: count, Length: 14553, dtype: int64\n"
     ]
    },
    {
     "data": {
      "text/plain": [
       "hotel\n",
       "City Hotel      25279469.96\n",
       "Resort Hotel    17444027.57\n",
       "Name: revenue, dtype: float64"
      ]
     },
     "execution_count": 123,
     "metadata": {},
     "output_type": "execute_result"
    }
   ],
   "source": [
    "print(bank_data['revenue'].value_counts().sort_values(ascending=False))\n",
    "bank_data.groupby('hotel')['revenue'].sum()"
   ]
  },
  {
   "cell_type": "code",
   "execution_count": 124,
   "id": "af09eed1",
   "metadata": {},
   "outputs": [
    {
     "name": "stdout",
     "output_type": "stream",
     "text": [
      "CSMR_SENT\n",
      "90.0    10195\n",
      "87.2     9237\n",
      "91.0     5319\n",
      "98.5     5251\n",
      "89.0     5214\n",
      "94.7     5023\n",
      "93.8     5021\n",
      "97.1     5006\n",
      "91.2     4993\n",
      "96.3     4858\n",
      "96.9     4826\n",
      "97.0     4634\n",
      "91.7     4596\n",
      "89.8     4585\n",
      "93.5     4552\n",
      "92.0     4482\n",
      "98.2     4338\n",
      "95.0     4060\n",
      "93.4     4038\n",
      "93.1     3615\n",
      "96.8     3417\n",
      "91.9     3247\n",
      "91.3     3077\n",
      "92.6     3062\n",
      "98.1      933\n",
      "96.1      666\n",
      "95.1      393\n",
      "90.7      275\n",
      "95.9      151\n",
      "93.0       85\n",
      "95.4       44\n",
      "Name: count, dtype: int64\n"
     ]
    }
   ],
   "source": [
    "print(bank_data['CSMR_SENT'].value_counts().sort_values(ascending=False))\n",
    "                       "
   ]
  }
 ],
 "metadata": {
  "kernelspec": {
   "display_name": "Python 3 (ipykernel)",
   "language": "python",
   "name": "python3"
  },
  "language_info": {
   "codemirror_mode": {
    "name": "ipython",
    "version": 3
   },
   "file_extension": ".py",
   "mimetype": "text/x-python",
   "name": "python",
   "nbconvert_exporter": "python",
   "pygments_lexer": "ipython3",
   "version": "3.11.5"
  }
 },
 "nbformat": 4,
 "nbformat_minor": 5
}
